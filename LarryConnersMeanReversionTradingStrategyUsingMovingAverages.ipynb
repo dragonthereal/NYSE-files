{
  "cells": [
    {
      "cell_type": "markdown",
      "metadata": {
        "id": "view-in-github",
        "colab_type": "text"
      },
      "source": [
        "<a href=\"https://colab.research.google.com/github/dragonthereal/NYSE-files/blob/main/LarryConnersMeanReversionTradingStrategyUsingMovingAverages.ipynb\" target=\"_parent\"><img src=\"https://colab.research.google.com/assets/colab-badge.svg\" alt=\"Open In Colab\"/></a>"
      ]
    },
    {
      "cell_type": "code",
      "execution_count": null,
      "metadata": {
        "colab": {
          "base_uri": "https://localhost:8080/"
        },
        "id": "3J6K8q5wtH3Q",
        "outputId": "97118a03-5248-4467-e5fc-bd80fde4079b"
      },
      "outputs": [
        {
          "output_type": "stream",
          "name": "stdout",
          "text": [
            "Requirement already satisfied: alpaca_trade_api in /usr/local/lib/python3.7/dist-packages (1.4.3)\n",
            "Requirement already satisfied: requests<3,>2 in /usr/local/lib/python3.7/dist-packages (from alpaca_trade_api) (2.23.0)\n",
            "Requirement already satisfied: websocket-client<2,>=0.56.0 in /usr/local/lib/python3.7/dist-packages (from alpaca_trade_api) (1.2.3)\n",
            "Requirement already satisfied: urllib3<2,>1.24 in /usr/local/lib/python3.7/dist-packages (from alpaca_trade_api) (1.24.3)\n",
            "Requirement already satisfied: PyYAML==5.4.1 in /usr/local/lib/python3.7/dist-packages (from alpaca_trade_api) (5.4.1)\n",
            "Requirement already satisfied: pandas>=0.18.1 in /usr/local/lib/python3.7/dist-packages (from alpaca_trade_api) (1.1.5)\n",
            "Requirement already satisfied: websockets<10,>=8.0 in /usr/local/lib/python3.7/dist-packages (from alpaca_trade_api) (9.1)\n",
            "Requirement already satisfied: msgpack==1.0.2 in /usr/local/lib/python3.7/dist-packages (from alpaca_trade_api) (1.0.2)\n",
            "Requirement already satisfied: aiohttp==3.7.4 in /usr/local/lib/python3.7/dist-packages (from alpaca_trade_api) (3.7.4)\n",
            "Requirement already satisfied: numpy>=1.11.1 in /usr/local/lib/python3.7/dist-packages (from alpaca_trade_api) (1.19.5)\n",
            "Requirement already satisfied: attrs>=17.3.0 in /usr/local/lib/python3.7/dist-packages (from aiohttp==3.7.4->alpaca_trade_api) (21.4.0)\n",
            "Requirement already satisfied: typing-extensions>=3.6.5 in /usr/local/lib/python3.7/dist-packages (from aiohttp==3.7.4->alpaca_trade_api) (3.10.0.2)\n",
            "Requirement already satisfied: multidict<7.0,>=4.5 in /usr/local/lib/python3.7/dist-packages (from aiohttp==3.7.4->alpaca_trade_api) (5.2.0)\n",
            "Requirement already satisfied: yarl<2.0,>=1.0 in /usr/local/lib/python3.7/dist-packages (from aiohttp==3.7.4->alpaca_trade_api) (1.7.2)\n",
            "Requirement already satisfied: chardet<4.0,>=2.0 in /usr/local/lib/python3.7/dist-packages (from aiohttp==3.7.4->alpaca_trade_api) (3.0.4)\n",
            "Requirement already satisfied: async-timeout<4.0,>=3.0 in /usr/local/lib/python3.7/dist-packages (from aiohttp==3.7.4->alpaca_trade_api) (3.0.1)\n",
            "Requirement already satisfied: python-dateutil>=2.7.3 in /usr/local/lib/python3.7/dist-packages (from pandas>=0.18.1->alpaca_trade_api) (2.8.2)\n",
            "Requirement already satisfied: pytz>=2017.2 in /usr/local/lib/python3.7/dist-packages (from pandas>=0.18.1->alpaca_trade_api) (2018.9)\n",
            "Requirement already satisfied: six>=1.5 in /usr/local/lib/python3.7/dist-packages (from python-dateutil>=2.7.3->pandas>=0.18.1->alpaca_trade_api) (1.15.0)\n",
            "Requirement already satisfied: idna<3,>=2.5 in /usr/local/lib/python3.7/dist-packages (from requests<3,>2->alpaca_trade_api) (2.10)\n",
            "Requirement already satisfied: certifi>=2017.4.17 in /usr/local/lib/python3.7/dist-packages (from requests<3,>2->alpaca_trade_api) (2021.10.8)\n"
          ]
        }
      ],
      "source": [
        "#imports\n",
        "!pip install alpaca_trade_api\n",
        "import alpaca_trade_api as tradeapi\n",
        "import pandas\n",
        "import requests\n",
        "import time\n",
        "from datetime import date, timedelta\n",
        "import math"
      ]
    },
    {
      "cell_type": "code",
      "execution_count": null,
      "metadata": {
        "id": "pECysaldl4r8"
      },
      "outputs": [],
      "source": [
        "polygon_api = 'gYeZgQJrG8WXODzJou9U1ff3jKYU6VxB'\n",
        "polygon_api_1 = '84pguIZC6cV1Sh04dsTclAK0auke0ttm'\n",
        "polygon_api_2 = 'gSOBND4kEJE4WeQ3H3RmuKtaDghqIG_6'\n",
        "polygon_api_3 = 'NVvcreaegiQSo30ayDnvienc2fGOlPvJ'\n",
        "another_polygon_api_6 = 'vKKW5z8Rsw5B_UMQpfWypdWRS1S2iJwq'\n",
        "another_polygon_api_7 = '7wA_DxZImf1f29l1Bk2JYhUupKvS_PhX'\n",
        "another_polygon_api_8 = 'VcoSKMNQPpxK2nKi5039saYetbt4q8jR'"
      ]
    },
    {
      "cell_type": "code",
      "execution_count": null,
      "metadata": {
        "id": "fGrOSim76mKA"
      },
      "outputs": [],
      "source": [
        "alpha_vantage_api_eight = 'AG7X3IZH5TU0KF98'\n",
        "alpha_vantage_api_nine = 'JEK2507WG40LMWPF'\n",
        "alpha_vantage_api_ten = 'NN3RPDGYG33131HP'\n",
        "alpha_vantage_api_eleven = \"QAPIX4I33ZCQ3E9F\"\n",
        "alpha_vantage_api_thirteen = \"G5BKWLG69KWONP66\"\n",
        "alpha_vantage_api_fourteen = \"EW3MLHXOAUJTNIT2\"\n",
        "iex_cloud_api = 'pk_0f6d70e75f9141ec8d27ab2ea2988d94'"
      ]
    },
    {
      "cell_type": "code",
      "execution_count": null,
      "metadata": {
        "id": "57EUpgLg3bE7"
      },
      "outputs": [],
      "source": [
        "#the function that allows us to call alphavantage many times\n",
        "def alpha_vantage_call(function, symbol, additional_text, api_key, api_key_2):\n",
        "    data = requests.get(f'https://www.alphavantage.co/query?function={function}&symbol={symbol}{additional_text}&apikey={api_key}').json()\n",
        "\n",
        "    while 'Note' in data:\n",
        "        data = requests.get(f'https://www.alphavantage.co/query?function={function}&symbol={symbol}{additional_text}&apikey={api_key_2}').json()\n",
        "        \n",
        "    \n",
        "    while 'Error Message' in data:\n",
        "        data = ''\n",
        "        break\n",
        "    return data"
      ]
    },
    {
      "cell_type": "code",
      "execution_count": null,
      "metadata": {
        "id": "dFt2ITGX-AlZ"
      },
      "outputs": [],
      "source": [
        "#initializing all variables\n",
        "\n",
        "#initializing date\n",
        "today = date.today()\n",
        "real_date = today.strftime(\"%Y-%m-%d\")\n",
        "real_date = str(real_date)\n",
        "real_date = \"2022-01-14\"\n",
        "#250 days ago\n",
        "days_ago_250 = str(today - timedelta(days=250))"
      ]
    },
    {
      "cell_type": "code",
      "execution_count": null,
      "metadata": {
        "id": "vU_eWAFys_Mf"
      },
      "outputs": [],
      "source": [
        "def getting_data_polygon(stock_symbol, timespan, from_date, to_date, api_key, api_key_2):\n",
        "    data = requests.get(f'https://api.polygon.io/v2/aggs/ticker/{stock_symbol}/range/1/{timespan}/{from_date}/{to_date}?adjusted=true&sort=desc&limit=5000&apiKey={api_key}').json()\n",
        "    while 'error' in data:\n",
        "        data = requests.get(f'https://api.polygon.io/v2/aggs/ticker/{stock_symbol}/range/1/{timespan}/{from_date}/{to_date}?adjusted=true&sort=desc&limit=5000&apiKey={api_key_2}').json()\n",
        "        time.sleep(1.5)\n",
        "\n",
        "    \n",
        "    return data"
      ]
    },
    {
      "cell_type": "code",
      "execution_count": null,
      "metadata": {
        "colab": {
          "base_uri": "https://localhost:8080/"
        },
        "id": "IDhJLYPEVPDD",
        "outputId": "82c83deb-93c9-440a-c6c4-6adca27f2249"
      },
      "outputs": [
        {
          "output_type": "stream",
          "name": "stdout",
          "text": [
            "LRCX condition_5 FAILED\n",
            "REGN condition_5 FAILED\n",
            "Buy SI at 132.624\n",
            "Buy FDS at 410.0256\n",
            "Buy SAIA at 265.536\n",
            "ORLY condition_5 FAILED\n"
          ]
        }
      ],
      "source": [
        "#authentication and connection details\n",
        "api_key = 'PKM01ZLV6WJQDZWYXVN8'\n",
        "api_secret = '2EiUN9ayUiknReCQOqH1YsQKDOPyVBUw7b3ooqO1'\n",
        "base_url = 'https://paper-api.alpaca.markets'\n",
        "\n",
        "# instantiate REST API\n",
        "api = tradeapi.REST(api_key, api_secret, base_url, api_version='v2')\n",
        "\n",
        "\n",
        "# Get a list of all active assets.\n",
        "active_assets = api.list_assets(status='active')\n",
        "\n",
        "\n",
        "\n",
        "#iterating through all the stocks\n",
        "for asset in active_assets:\n",
        "    #stock symbol\n",
        "    stock_symbol = str(asset.symbol)\n",
        "\n",
        " \n",
        "\n",
        "\n",
        "   # historical volatility\n",
        "    days_ago_150 = str(today-timedelta(days=150))\n",
        "    historical_prices = getting_data_polygon(stock_symbol, 'day', days_ago_150, real_date, polygon_api, another_polygon_api_6)\n",
        "\n",
        "\n",
        "    \n",
        "    if historical_prices['resultsCount'] < 100:\n",
        "        continue\n",
        "\n",
        "    x = 0\n",
        "    close_added_all = 0\n",
        "\n",
        "    while x <= 99:\n",
        "        close_price_on_day = float(historical_prices['results'][x]['c'])\n",
        "        close_added_all += close_price_on_day\n",
        "        x += 1\n",
        "\n",
        "    average_close = close_added_all / 100\n",
        "\n",
        "    x = 0\n",
        "\n",
        "    sum_of_squared_difference = 0\n",
        "\n",
        "    while x <= 99:\n",
        "        close_price_on_day = float(historical_prices['results'][x]['c'])\n",
        "        difference_between_average_close_and_close = average_close - close_price_on_day\n",
        "        difference_between_average_close_and_close **= 2\n",
        "        sum_of_squared_difference += difference_between_average_close_and_close\n",
        "        x += 1\n",
        "\n",
        "    sum_of_squared_difference /= 100\n",
        "    historical_volatility = math.sqrt(sum_of_squared_difference)\n",
        "\n",
        "\n",
        "    if historical_volatility > 30:\n",
        "        condition_1 = True\n",
        "    else:\n",
        "        continue \n",
        "\n",
        "\n",
        "    \n",
        "    # trying to see whether stock is above 5 dollars\n",
        "    eod_data_last_stock_session = getting_data_polygon(stock_symbol, 'day', real_date, real_date, polygon_api_2, another_polygon_api_7)\n",
        "    if eod_data_last_stock_session['status'] == 'DELAYED':\n",
        "        continue\n",
        "    \n",
        "    close = float(eod_data_last_stock_session['results'][0]['c'])\n",
        "    if close > 5 :\n",
        "        condition_2 = True\n",
        "    else:\n",
        "        continue\n",
        "\n",
        "    \n",
        "    #getting last month's volume and checking whether it is above 250,000\n",
        "    months_of_data = getting_data_polygon(stock_symbol, 'month', days_ago_150, real_date, polygon_api_3, another_polygon_api_8)\n",
        "    last_month_volume = float(months_of_data['results'][0]['v'])\n",
        "\n",
        "    if last_month_volume > 250_000:\n",
        "        condition_3 = True\n",
        "    else:\n",
        "        continue\n",
        "\n",
        "    \n",
        "    #finding whether stock is above 200 day moving average\n",
        "#finding 200 day moving average of past weeks\n",
        "    day_moving_average_past_days_200 = alpha_vantage_call('EMA', stock_symbol, '&interval=daily&time_period=200&series_type=close', alpha_vantage_api_thirteen, alpha_vantage_api_fourteen)\n",
        "\n",
        "    if not day_moving_average_past_days_200['Technical Analysis: EMA']:\n",
        "        continue\n",
        "\n",
        "#filtering today's 200 day moving average\n",
        "    day_moving_average_200 = float(day_moving_average_past_days_200['Technical Analysis: EMA'][real_date]['EMA'])\n",
        "\n",
        "#checking whether today's stock price is above 200 day moving average\n",
        "    if close > day_moving_average_200:\n",
        "        condition_4 = True\n",
        "    else:\n",
        "        continue\n",
        "\n",
        "        \n",
        "#making a function that allows us to call all these scenarios\n",
        "    def scenarios_fast_below_slow(fastma, slowma):\n",
        "        slowma_2_5 = slowma * 0.975\n",
        "        slowma_10 = slowma * 0.9\n",
        "    \n",
        "        if fastma <= slowma_2_5 and fastma >= slowma_10:\n",
        "            condition_5 = True\n",
        "        else:\n",
        "            condition_5 = False\n",
        "        return condition_5\n",
        "\n",
        "#getting EMA for 5, 10, 20, 50\n",
        "\n",
        "#getting data for 5\n",
        "    data_for_5 = alpha_vantage_call('EMA', stock_symbol,'&interval=daily&time_period=5&series_type=close', alpha_vantage_api_eight, alpha_vantage_api_nine)\n",
        "\n",
        "#getting moving average 5 today\n",
        "    moving_average_today_5 = float(data_for_5['Technical Analysis: EMA'][real_date]['EMA'])\n",
        "\n",
        "#getting data for 10\n",
        "    data_for_10 = alpha_vantage_call('EMA', stock_symbol,'&interval=daily&time_period=10&series_type=close', alpha_vantage_api_ten, alpha_vantage_api_eleven)\n",
        "\n",
        "#getting moving average 10 today\n",
        "    moving_average_today_10 = float(data_for_10['Technical Analysis: EMA'][real_date]['EMA'])\n",
        "\n",
        "#getting data for 20\n",
        "    data_for_20 = alpha_vantage_call('EMA', stock_symbol,'&interval=daily&time_period=20&series_type=close',  alpha_vantage_api_eight, alpha_vantage_api_nine)\n",
        "\n",
        "#getting moving average 20 today\n",
        "    moving_average_today_20 = float(data_for_20['Technical Analysis: EMA'][real_date]['EMA'])\n",
        "\n",
        "#getting data for 50\n",
        "    data_for_50 = alpha_vantage_call('EMA', stock_symbol,'&interval=daily&time_period=50&series_type=close', alpha_vantage_api_ten, alpha_vantage_api_eleven)\n",
        "\n",
        "#getting moving average 50 today\n",
        "    moving_average_today_50 = float(data_for_50['Technical Analysis: EMA'][real_date]['EMA'])\n",
        "\n",
        "#testing the conditions\n",
        "    if scenarios_fast_below_slow(moving_average_today_5, moving_average_today_10) == True:\n",
        "        condition_5 = True\n",
        "    elif scenarios_fast_below_slow(moving_average_today_5, moving_average_today_20) == True:\n",
        "        condition_5 = True\n",
        "    elif scenarios_fast_below_slow(moving_average_today_5, moving_average_today_50) == True:\n",
        "        condition_5 = True\n",
        "    elif scenarios_fast_below_slow(moving_average_today_10, moving_average_today_20) == True:\n",
        "        condition_5 = True\n",
        "    elif scenarios_fast_below_slow(moving_average_today_10, moving_average_today_50) == True:\n",
        "        condition_5 = True\n",
        "    else:\n",
        "        continue\n",
        "        \n",
        "\n",
        "#price of stock at which to buy stock\n",
        "    buy_stock_at = str(close * 0.96)\n",
        "\n",
        "#the herculean task lol\n",
        "#checking whether all conditions are true, then telling the owner to buy the stock\n",
        "    if condition_1 == True and condition_2 == True and condition_3 == True and condition_4 == True and condition_5 == True:\n",
        "        print('Buy ' + stock_symbol + ' at ' + buy_stock_at) "
      ]
    }
  ],
  "metadata": {
    "colab": {
      "collapsed_sections": [],
      "name": "LarryConnersMeanReversionTradingStrategyUsingMovingAverages.ipynb",
      "provenance": [],
      "include_colab_link": true
    },
    "kernelspec": {
      "display_name": "Python 3",
      "name": "python3"
    },
    "language_info": {
      "name": "python"
    }
  },
  "nbformat": 4,
  "nbformat_minor": 0
}